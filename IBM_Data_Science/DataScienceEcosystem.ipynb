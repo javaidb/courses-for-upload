{
 "cells": [
  {
   "cell_type": "markdown",
   "id": "ad7c086b",
   "metadata": {},
   "source": [
    "<h1> Data Science Tools and Ecosystem </h1"
   ]
  },
  {
   "cell_type": "markdown",
   "id": "6ef65fdc",
   "metadata": {},
   "source": [
    "In this notebook, Data Science Tools and Ecosystem are summarized."
   ]
  },
  {
   "cell_type": "markdown",
   "id": "5307e70e",
   "metadata": {},
   "source": [
    "Some of the popular languages that Data Scientists use:\n",
    "\n",
    "1. Python\n",
    "2. R\n",
    "3. SQL"
   ]
  },
  {
   "cell_type": "markdown",
   "id": "80a1e7c1",
   "metadata": {},
   "source": [
    "Some of the common libraries that Data Scientists use:\n",
    "\n",
    "1. NumPy\n",
    "2. SciPy\n",
    "3. Scikit-Learn"
   ]
  },
  {
   "cell_type": "markdown",
   "id": "758bc8c2",
   "metadata": {},
   "source": [
    "| Data Science Tools |\n",
    "| --- |\n",
    "| Jupyter |\n",
    "| PyCharm |\n",
    "| Visual Studio |"
   ]
  },
  {
   "cell_type": "markdown",
   "id": "c287f143",
   "metadata": {},
   "source": [
    "<h3> Below are a few examples of evaluating arithmetic expresions in Python: </h3>"
   ]
  },
  {
   "cell_type": "code",
   "execution_count": 4,
   "id": "f4d5581b",
   "metadata": {},
   "outputs": [
    {
     "data": {
      "text/plain": [
       "17"
      ]
     },
     "execution_count": 4,
     "metadata": {},
     "output_type": "execute_result"
    }
   ],
   "source": [
    "#This operation multiplies 3 and 4 within brackets first, followed by addition of 5\n",
    "(3*4)+5"
   ]
  },
  {
   "cell_type": "code",
   "execution_count": 6,
   "id": "1e3718e5",
   "metadata": {},
   "outputs": [
    {
     "data": {
      "text/plain": [
       "3.3333333333333335"
      ]
     },
     "execution_count": 6,
     "metadata": {},
     "output_type": "execute_result"
    }
   ],
   "source": [
    "#This operation converts minutes to hours by diving input by 60\n",
    "def hourstominutes(minutes):\n",
    "    return minutes/60\n",
    "hourstominutes(200)"
   ]
  },
  {
   "cell_type": "markdown",
   "id": "e6a4f6d7",
   "metadata": {},
   "source": [
    "<b> Objectives </b>\n",
    "- Outlining popular languages that data scientists use to their advantage based on the desired use cases.\n",
    "- Outlining common libraries used by data scientists, listing ones utilized by Python in the above example.\n",
    "- Outlining open-source development environment tools used for Data Science."
   ]
  },
  {
   "cell_type": "markdown",
   "id": "c7554054",
   "metadata": {},
   "source": [
    "<h2> Author </h2>\n",
    "Javaid Baksh"
   ]
  }
 ],
 "metadata": {
  "kernelspec": {
   "display_name": "venv",
   "language": "python",
   "name": "venv"
  },
  "language_info": {
   "codemirror_mode": {
    "name": "ipython",
    "version": 3
   },
   "file_extension": ".py",
   "mimetype": "text/x-python",
   "name": "python",
   "nbconvert_exporter": "python",
   "pygments_lexer": "ipython3",
   "version": "3.7.1"
  }
 },
 "nbformat": 4,
 "nbformat_minor": 5
}
